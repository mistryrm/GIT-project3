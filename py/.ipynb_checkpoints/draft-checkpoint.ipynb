{
 "cells": [
  {
   "cell_type": "code",
   "execution_count": 25,
   "id": "7b51ae25-b043-445c-afa0-72b520191d2a",
   "metadata": {
    "tags": []
   },
   "outputs": [],
   "source": [
    "# Python SQL toolkit and Object Relational Mapper\n",
    "import pandas as pd\n",
    "\n",
    "from sqlalchemy.ext.automap import automap_base\n",
    "from sqlalchemy.orm import Session\n",
    "from sqlalchemy import create_engine, func, text, inspect\n",
    "from flask import Flask, jsonify , render_template"
   ]
  },
  {
   "cell_type": "code",
   "execution_count": 4,
   "id": "f8f91908-7695-4597-8d21-4387a4532bb0",
   "metadata": {
    "tags": []
   },
   "outputs": [
    {
     "data": {
      "text/plain": [
       "['met_data']"
      ]
     },
     "execution_count": 4,
     "metadata": {},
     "output_type": "execute_result"
    }
   ],
   "source": [
    "# create engine to hawaii.sqlite\n",
    "engine = create_engine(\"sqlite:///../data/met_data.sqlite\")\n",
    "\n",
    "# reflect an existing database into a new model\n",
    "Base = automap_base()\n",
    "# reflect the tables\n",
    "Base.prepare(autoload_with=engine)\n",
    "\n",
    "# View all of the classes that automap found\n",
    "Base.classes.keys()\n"
   ]
  },
  {
   "cell_type": "code",
   "execution_count": 15,
   "id": "65fac37b-c9cd-41cf-9c33-8a09900be247",
   "metadata": {
    "tags": []
   },
   "outputs": [],
   "source": [
    "# query for app\n",
    "\n",
    "met = Base.classes.met_data\n",
    "conn = engine.connect()\n",
    "session = Session(engine)\n"
   ]
  },
  {
   "cell_type": "code",
   "execution_count": 31,
   "id": "aa05cb6a-21d0-45ea-a219-7dcec7b4907b",
   "metadata": {
    "tags": []
   },
   "outputs": [
    {
     "data": {
      "text/html": [
       "<div>\n",
       "<style scoped>\n",
       "    .dataframe tbody tr th:only-of-type {\n",
       "        vertical-align: middle;\n",
       "    }\n",
       "\n",
       "    .dataframe tbody tr th {\n",
       "        vertical-align: top;\n",
       "    }\n",
       "\n",
       "    .dataframe thead th {\n",
       "        text-align: right;\n",
       "    }\n",
       "</style>\n",
       "<table border=\"1\" class=\"dataframe\">\n",
       "  <thead>\n",
       "    <tr style=\"text-align: right;\">\n",
       "      <th></th>\n",
       "      <th>objectID</th>\n",
       "      <th>year</th>\n",
       "      <th>title</th>\n",
       "      <th>artist</th>\n",
       "      <th>department</th>\n",
       "      <th>objectURL</th>\n",
       "    </tr>\n",
       "  </thead>\n",
       "  <tbody>\n",
       "    <tr>\n",
       "      <th>0</th>\n",
       "      <td>545971</td>\n",
       "      <td>-664</td>\n",
       "      <td>Cat</td>\n",
       "      <td></td>\n",
       "      <td>Egyptian Art</td>\n",
       "      <td>https://www.metmuseum.org/art/collection/searc...</td>\n",
       "    </tr>\n",
       "    <tr>\n",
       "      <th>1</th>\n",
       "      <td>203392</td>\n",
       "      <td>1750</td>\n",
       "      <td>Cat</td>\n",
       "      <td>Saint James's Factory</td>\n",
       "      <td>European Sculpture and Decorative Arts</td>\n",
       "      <td>https://www.metmuseum.org/art/collection/searc...</td>\n",
       "    </tr>\n",
       "    <tr>\n",
       "      <th>2</th>\n",
       "      <td>544118</td>\n",
       "      <td>-332</td>\n",
       "      <td>Cat Statuette intended to contain a mummified cat</td>\n",
       "      <td></td>\n",
       "      <td>Egyptian Art</td>\n",
       "      <td>https://www.metmuseum.org/art/collection/searc...</td>\n",
       "    </tr>\n",
       "    <tr>\n",
       "      <th>3</th>\n",
       "      <td>49698</td>\n",
       "      <td>1900</td>\n",
       "      <td>Cat</td>\n",
       "      <td>Zhang Yuguang</td>\n",
       "      <td>Asian Art</td>\n",
       "      <td>https://www.metmuseum.org/art/collection/searc...</td>\n",
       "    </tr>\n",
       "    <tr>\n",
       "      <th>4</th>\n",
       "      <td>199446</td>\n",
       "      <td>1740</td>\n",
       "      <td>Cat</td>\n",
       "      <td>John Astbury</td>\n",
       "      <td>European Sculpture and Decorative Arts</td>\n",
       "      <td>https://www.metmuseum.org/art/collection/searc...</td>\n",
       "    </tr>\n",
       "    <tr>\n",
       "      <th>...</th>\n",
       "      <td>...</td>\n",
       "      <td>...</td>\n",
       "      <td>...</td>\n",
       "      <td>...</td>\n",
       "      <td>...</td>\n",
       "      <td>...</td>\n",
       "    </tr>\n",
       "    <tr>\n",
       "      <th>780</th>\n",
       "      <td>785037</td>\n",
       "      <td>1570</td>\n",
       "      <td>Ornament for goldsmiths with Cupid holding tro...</td>\n",
       "      <td>Marcus Gheeraerts the Younger</td>\n",
       "      <td>Drawings and Prints</td>\n",
       "      <td>https://www.metmuseum.org/art/collection/searc...</td>\n",
       "    </tr>\n",
       "    <tr>\n",
       "      <th>781</th>\n",
       "      <td>857172</td>\n",
       "      <td>1871</td>\n",
       "      <td>The Poll-Parrot, A Picture Book, Containing: T...</td>\n",
       "      <td>Harrison William Weir</td>\n",
       "      <td>Drawings and Prints</td>\n",
       "      <td>https://www.metmuseum.org/art/collection/searc...</td>\n",
       "    </tr>\n",
       "    <tr>\n",
       "      <th>782</th>\n",
       "      <td>898662</td>\n",
       "      <td>1865</td>\n",
       "      <td>The Angora Cat</td>\n",
       "      <td>Richard Doyle</td>\n",
       "      <td>Drawings and Prints</td>\n",
       "      <td>https://www.metmuseum.org/art/collection/searc...</td>\n",
       "    </tr>\n",
       "    <tr>\n",
       "      <th>783</th>\n",
       "      <td>548399</td>\n",
       "      <td>-1550</td>\n",
       "      <td>Cosmetic Spoon in the Shape of a Mouse</td>\n",
       "      <td></td>\n",
       "      <td>Egyptian Art</td>\n",
       "      <td>https://www.metmuseum.org/art/collection/searc...</td>\n",
       "    </tr>\n",
       "    <tr>\n",
       "      <th>784</th>\n",
       "      <td>446563</td>\n",
       "      <td>1572</td>\n",
       "      <td>\"A Muslim Pilgrim Learns a Lesson in Piety fro...</td>\n",
       "      <td>Amir Khusrau Dihlavi</td>\n",
       "      <td>Islamic Art</td>\n",
       "      <td>https://www.metmuseum.org/art/collection/searc...</td>\n",
       "    </tr>\n",
       "  </tbody>\n",
       "</table>\n",
       "<p>785 rows × 6 columns</p>\n",
       "</div>"
      ],
      "text/plain": [
       "    objectID   year                                              title  \\\n",
       "0     545971   -664                                                Cat   \n",
       "1     203392   1750                                                Cat   \n",
       "2     544118   -332  Cat Statuette intended to contain a mummified cat   \n",
       "3      49698   1900                                                Cat   \n",
       "4     199446   1740                                                Cat   \n",
       "..       ...    ...                                                ...   \n",
       "780   785037   1570  Ornament for goldsmiths with Cupid holding tro...   \n",
       "781   857172   1871  The Poll-Parrot, A Picture Book, Containing: T...   \n",
       "782   898662   1865                                     The Angora Cat   \n",
       "783   548399  -1550             Cosmetic Spoon in the Shape of a Mouse   \n",
       "784   446563   1572  \"A Muslim Pilgrim Learns a Lesson in Piety fro...   \n",
       "\n",
       "                            artist                              department  \\\n",
       "0                                                             Egyptian Art   \n",
       "1            Saint James's Factory  European Sculpture and Decorative Arts   \n",
       "2                                                             Egyptian Art   \n",
       "3                    Zhang Yuguang                               Asian Art   \n",
       "4                     John Astbury  European Sculpture and Decorative Arts   \n",
       "..                             ...                                     ...   \n",
       "780  Marcus Gheeraerts the Younger                     Drawings and Prints   \n",
       "781          Harrison William Weir                     Drawings and Prints   \n",
       "782                  Richard Doyle                     Drawings and Prints   \n",
       "783                                                           Egyptian Art   \n",
       "784           Amir Khusrau Dihlavi                             Islamic Art   \n",
       "\n",
       "                                             objectURL  \n",
       "0    https://www.metmuseum.org/art/collection/searc...  \n",
       "1    https://www.metmuseum.org/art/collection/searc...  \n",
       "2    https://www.metmuseum.org/art/collection/searc...  \n",
       "3    https://www.metmuseum.org/art/collection/searc...  \n",
       "4    https://www.metmuseum.org/art/collection/searc...  \n",
       "..                                                 ...  \n",
       "780  https://www.metmuseum.org/art/collection/searc...  \n",
       "781  https://www.metmuseum.org/art/collection/searc...  \n",
       "782  https://www.metmuseum.org/art/collection/searc...  \n",
       "783  https://www.metmuseum.org/art/collection/searc...  \n",
       "784  https://www.metmuseum.org/art/collection/searc...  \n",
       "\n",
       "[785 rows x 6 columns]"
      ]
     },
     "execution_count": 31,
     "metadata": {},
     "output_type": "execute_result"
    }
   ],
   "source": [
    "search_team = \"cat\"\n",
    "team_df =  pd.read_sql(f\"SELECT objectID , year , title, artist , department , objectURL FROM met_data WHERE team='{search_team}' \", conn)\n",
    "team_df"
   ]
  },
  {
   "cell_type": "code",
   "execution_count": 40,
   "id": "361e500a-f83f-4515-9af7-62df8b2eb25b",
   "metadata": {
    "tags": []
   },
   "outputs": [],
   "source": [
    "# json for return, date as key, precipitation as value\n",
    "key_ls = team_df.columns\n",
    "\n",
    "team_return = [] \n",
    "\n",
    "for i in range( len(team_df) ):\n",
    "    one_object = {}\n",
    "    for j in range(len(key_ls)) :\n",
    "        one_object[ key_ls[j] ] =  team_df.iloc[ i , j ]\n",
    "    team_return.append(one_object)\n",
    "    \n",
    "#return jsonify(team_return)"
   ]
  },
  {
   "cell_type": "code",
   "execution_count": 35,
   "id": "f92b5f76-7624-42d1-b396-720a6dd382a0",
   "metadata": {
    "tags": []
   },
   "outputs": [
    {
     "data": {
      "text/plain": [
       "range(0, 6)"
      ]
     },
     "execution_count": 35,
     "metadata": {},
     "output_type": "execute_result"
    }
   ],
   "source": [
    "range(len(key_ls))"
   ]
  },
  {
   "cell_type": "code",
   "execution_count": null,
   "id": "de1fc58b-41f2-4c1a-b3bc-4c7bc3893b6f",
   "metadata": {},
   "outputs": [],
   "source": [
    "team_return"
   ]
  }
 ],
 "metadata": {
  "kernelspec": {
   "display_name": "Python 3 (ipykernel)",
   "language": "python",
   "name": "python3"
  },
  "language_info": {
   "codemirror_mode": {
    "name": "ipython",
    "version": 3
   },
   "file_extension": ".py",
   "mimetype": "text/x-python",
   "name": "python",
   "nbconvert_exporter": "python",
   "pygments_lexer": "ipython3",
   "version": "3.10.12"
  }
 },
 "nbformat": 4,
 "nbformat_minor": 5
}
